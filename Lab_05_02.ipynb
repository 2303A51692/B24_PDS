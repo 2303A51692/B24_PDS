{
  "nbformat": 4,
  "nbformat_minor": 0,
  "metadata": {
    "colab": {
      "provenance": [],
      "authorship_tag": "ABX9TyMMqIXNJD7pUy0X7QpveChq",
      "include_colab_link": true
    },
    "kernelspec": {
      "name": "python3",
      "display_name": "Python 3"
    },
    "language_info": {
      "name": "python"
    }
  },
  "cells": [
    {
      "cell_type": "markdown",
      "metadata": {
        "id": "view-in-github",
        "colab_type": "text"
      },
      "source": [
        "<a href=\"https://colab.research.google.com/github/2303A51692/B24_PDS/blob/main/Lab_05_02.ipynb\" target=\"_parent\"><img src=\"https://colab.research.google.com/assets/colab-badge.svg\" alt=\"Open In Colab\"/></a>"
      ]
    },
    {
      "cell_type": "code",
      "source": [
        "import pandas as pd"
      ],
      "metadata": {
        "id": "ut9dGhy8mvYV"
      },
      "execution_count": 2,
      "outputs": []
    },
    {
      "cell_type": "code",
      "source": [
        "patients = pd.DataFrame({\n",
        "    'patient_id': [1,2,3,4,5,6],\n",
        "    'name': ['Rahul','Sneha','Vikram','Meera','Amit','Kavya'],\n",
        "    'age': [34,28,45,50,38,22],\n",
        "    'gender': ['M','F','M','F','M','F']\n",
        "})\n",
        "appointments = pd.DataFrame({\n",
        "    'appointment_id': [11,12,13,14,15,16,17,18],\n",
        "    'patient_id':     [1,2,1,3,4,2,1,3],\n",
        "    'doctor':         ['Dr.A','Dr.B','Dr.A','Dr.C','Dr.B','Dr.A','Dr.C','Dr.A'],\n",
        "    'date': pd.to_datetime([\n",
        "        '2025-08-01','2025-08-03','2025-08-10','2025-08-15',\n",
        "        '2025-08-20','2025-08-22','2025-09-01','2025-09-05'\n",
        "    ])\n",
        "})"
      ],
      "metadata": {
        "id": "CD92r7UmmzGe"
      },
      "execution_count": 3,
      "outputs": []
    },
    {
      "cell_type": "code",
      "source": [
        "merged = patients.merge(appointments, on='patient_id', how='left')"
      ],
      "metadata": {
        "id": "4FwW3Pp7m5cy"
      },
      "execution_count": 4,
      "outputs": []
    },
    {
      "cell_type": "code",
      "source": [
        "patient_visits = (\n",
        "    merged.groupby(['patient_id','name','age','gender'], as_index=False)\n",
        "          .appointment_id.count()\n",
        "          .rename(columns={'appointment_id':'visit_count'})\n",
        ")"
      ],
      "metadata": {
        "id": "L8vQXy0nm9Qz"
      },
      "execution_count": 6,
      "outputs": []
    },
    {
      "cell_type": "code",
      "source": [
        "doctor_workload = (appointments['doctor']\n",
        "                   .value_counts()\n",
        "                   .rename_axis('doctor')\n",
        "                   .reset_index(name='total_appointments'))"
      ],
      "metadata": {
        "id": "Bk_deqz0nGnF"
      },
      "execution_count": 7,
      "outputs": []
    },
    {
      "cell_type": "code",
      "source": [
        "max_visits = patient_visits['visit_count'].max()\n",
        "top_patients = patient_visits[patient_visits['visit_count'] == max_visits]"
      ],
      "metadata": {
        "id": "mL6w9qIErbJc"
      },
      "execution_count": 8,
      "outputs": []
    },
    {
      "cell_type": "code",
      "source": [
        "print(\"\\nMerged dataset (sample):\")\n",
        "print(merged.head().to_string(index=False))"
      ],
      "metadata": {
        "colab": {
          "base_uri": "https://localhost:8080/"
        },
        "id": "90C0VcU7rynH",
        "outputId": "e5693d8f-a11a-40d6-b777-953ebc57aac3"
      },
      "execution_count": 9,
      "outputs": [
        {
          "output_type": "stream",
          "name": "stdout",
          "text": [
            "\n",
            "Merged dataset (sample):\n",
            " patient_id  name  age gender  appointment_id doctor       date\n",
            "          1 Rahul   34      M            11.0   Dr.A 2025-08-01\n",
            "          1 Rahul   34      M            13.0   Dr.A 2025-08-10\n",
            "          1 Rahul   34      M            17.0   Dr.C 2025-09-01\n",
            "          2 Sneha   28      F            12.0   Dr.B 2025-08-03\n",
            "          2 Sneha   28      F            16.0   Dr.A 2025-08-22\n"
          ]
        }
      ]
    },
    {
      "cell_type": "code",
      "source": [
        "print(\"\\nAppointments per patient:\")\n",
        "print(patient_visits.to_string(index=False))"
      ],
      "metadata": {
        "colab": {
          "base_uri": "https://localhost:8080/"
        },
        "id": "PMXEvq8Yr2g_",
        "outputId": "88452ab4-e00c-46bc-b9cb-fbdc8efb8fe8"
      },
      "execution_count": 10,
      "outputs": [
        {
          "output_type": "stream",
          "name": "stdout",
          "text": [
            "\n",
            "Appointments per patient:\n",
            " patient_id   name  age gender  visit_count\n",
            "          1  Rahul   34      M            3\n",
            "          2  Sneha   28      F            2\n",
            "          3 Vikram   45      M            2\n",
            "          4  Meera   50      F            1\n",
            "          5   Amit   38      M            0\n",
            "          6  Kavya   22      F            0\n"
          ]
        }
      ]
    },
    {
      "cell_type": "code",
      "source": [
        "print(\"\\nDoctor workload:\")\n",
        "print(doctor_workload.to_string(index=False))"
      ],
      "metadata": {
        "colab": {
          "base_uri": "https://localhost:8080/"
        },
        "id": "VFmP1dYvr41h",
        "outputId": "375f9963-9cd1-4c8d-c46a-d639437f5cb1"
      },
      "execution_count": 11,
      "outputs": [
        {
          "output_type": "stream",
          "name": "stdout",
          "text": [
            "\n",
            "Doctor workload:\n",
            "doctor  total_appointments\n",
            "  Dr.A                   4\n",
            "  Dr.B                   2\n",
            "  Dr.C                   2\n"
          ]
        }
      ]
    },
    {
      "cell_type": "code",
      "source": [
        "print(\"\\nTop patient(s):\")\n",
        "print(top_patients.to_string(index=False))"
      ],
      "metadata": {
        "colab": {
          "base_uri": "https://localhost:8080/"
        },
        "id": "wwHUCgxir64K",
        "outputId": "c725bd84-1ac2-4b68-9be4-95b1620437bd"
      },
      "execution_count": 12,
      "outputs": [
        {
          "output_type": "stream",
          "name": "stdout",
          "text": [
            "\n",
            "Top patient(s):\n",
            " patient_id  name  age gender  visit_count\n",
            "          1 Rahul   34      M            3\n"
          ]
        }
      ]
    }
  ]
}