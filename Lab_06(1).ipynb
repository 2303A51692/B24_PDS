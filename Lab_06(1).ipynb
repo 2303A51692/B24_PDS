{
  "nbformat": 4,
  "nbformat_minor": 0,
  "metadata": {
    "colab": {
      "provenance": [],
      "authorship_tag": "ABX9TyPb/lYv95UBsXk01mGaumwu",
      "include_colab_link": true
    },
    "kernelspec": {
      "name": "python3",
      "display_name": "Python 3"
    },
    "language_info": {
      "name": "python"
    }
  },
  "cells": [
    {
      "cell_type": "markdown",
      "metadata": {
        "id": "view-in-github",
        "colab_type": "text"
      },
      "source": [
        "<a href=\"https://colab.research.google.com/github/2303A51692/B24_PDS/blob/main/Lab_06(1).ipynb\" target=\"_parent\"><img src=\"https://colab.research.google.com/assets/colab-badge.svg\" alt=\"Open In Colab\"/></a>"
      ]
    },
    {
      "cell_type": "code",
      "execution_count": 1,
      "metadata": {
        "id": "Jcuw6UfLbG0M"
      },
      "outputs": [],
      "source": [
        " import pandas as pd"
      ]
    },
    {
      "cell_type": "code",
      "source": [
        "data = {\n",
        " 'Patient_ID': range(1, 21),\n",
        " 'Age': [25, 34, 67, 89, 120, 130, -5, 45, 38, 72, 15, 200, 60, 0, 33, 27, 101, 55, 80, 40]\n",
        " }"
      ],
      "metadata": {
        "id": "8DvyHdEEbUL3"
      },
      "execution_count": 2,
      "outputs": []
    },
    {
      "cell_type": "code",
      "source": [
        "df = pd.DataFrame(data)\n",
        "print(\"Original Dataset:\\n\", df)"
      ],
      "metadata": {
        "colab": {
          "base_uri": "https://localhost:8080/"
        },
        "id": "agRPgzBnbWsl",
        "outputId": "514ff455-c05a-4f47-cc2d-d768788c391f"
      },
      "execution_count": 4,
      "outputs": [
        {
          "output_type": "stream",
          "name": "stdout",
          "text": [
            "Original Dataset:\n",
            "     Patient_ID  Age\n",
            "0            1   25\n",
            "1            2   34\n",
            "2            3   67\n",
            "3            4   89\n",
            "4            5  120\n",
            "5            6  130\n",
            "6            7   -5\n",
            "7            8   45\n",
            "8            9   38\n",
            "9           10   72\n",
            "10          11   15\n",
            "11          12  200\n",
            "12          13   60\n",
            "13          14    0\n",
            "14          15   33\n",
            "15          16   27\n",
            "16          17  101\n",
            "17          18   55\n",
            "18          19   80\n",
            "19          20   40\n"
          ]
        }
      ]
    }
  ]
}