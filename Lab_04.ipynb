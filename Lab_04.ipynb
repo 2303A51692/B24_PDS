{
  "nbformat": 4,
  "nbformat_minor": 0,
  "metadata": {
    "colab": {
      "provenance": [],
      "authorship_tag": "ABX9TyMVrnUx2/QoMxEbrDeqUsiA",
      "include_colab_link": true
    },
    "kernelspec": {
      "name": "python3",
      "display_name": "Python 3"
    },
    "language_info": {
      "name": "python"
    }
  },
  "cells": [
    {
      "cell_type": "markdown",
      "metadata": {
        "id": "view-in-github",
        "colab_type": "text"
      },
      "source": [
        "<a href=\"https://colab.research.google.com/github/2303A51692/B24_PDS/blob/main/Lab_04.ipynb\" target=\"_parent\"><img src=\"https://colab.research.google.com/assets/colab-badge.svg\" alt=\"Open In Colab\"/></a>"
      ]
    },
    {
      "cell_type": "code",
      "execution_count": 1,
      "metadata": {
        "id": "-kaNUpyUOUDh"
      },
      "outputs": [],
      "source": [
        "import pandas as pd"
      ]
    },
    {
      "cell_type": "code",
      "source": [
        "df = pd.read_csv(\"/content/course_feedback.csv\")"
      ],
      "metadata": {
        "id": "XxYCI1TURaHC"
      },
      "execution_count": 2,
      "outputs": []
    },
    {
      "cell_type": "code",
      "source": [
        "df = df.dropna(subset=[\"Rating\"])"
      ],
      "metadata": {
        "id": "3Vcvf8b7RfyB"
      },
      "execution_count": 3,
      "outputs": []
    },
    {
      "cell_type": "code",
      "source": [
        "filtered = df[\n",
        "    (df[\"Course_Name\"] == \"Python for Data Science\") &\n",
        "    (df[\"Rating\"] >= 4)\n",
        "]"
      ],
      "metadata": {
        "id": "D93kS7GeRiXS"
      },
      "execution_count": 4,
      "outputs": []
    },
    {
      "cell_type": "code",
      "source": [
        "result = filtered[[\"User_ID\", \"Feedback\"]]\n",
        "\n",
        "print(\"Meaningful Feedback for 'Python for Data Science':\\n\")\n",
        "print(result.to_string(index=False))"
      ],
      "metadata": {
        "colab": {
          "base_uri": "https://localhost:8080/"
        },
        "id": "Th6h1jFURktU",
        "outputId": "ee602120-598d-40a1-9e64-14811e77483e"
      },
      "execution_count": 5,
      "outputs": [
        {
          "output_type": "stream",
          "name": "stdout",
          "text": [
            "Meaningful Feedback for 'Python for Data Science':\n",
            "\n",
            "User_ID                                       Feedback\n",
            "   U101                   Great course, very detailed!\n",
            "   U102 Good explanations but could use more examples.\n",
            "   U106               Well structured and informative.\n",
            "   U108                         Perfect for beginners!\n"
          ]
        }
      ]
    }
  ]
}