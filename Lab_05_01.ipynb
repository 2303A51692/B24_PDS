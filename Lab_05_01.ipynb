{
  "nbformat": 4,
  "nbformat_minor": 0,
  "metadata": {
    "colab": {
      "provenance": [],
      "authorship_tag": "ABX9TyPDng7k2lAKYUY9OVEBOsx+",
      "include_colab_link": true
    },
    "kernelspec": {
      "name": "python3",
      "display_name": "Python 3"
    },
    "language_info": {
      "name": "python"
    }
  },
  "cells": [
    {
      "cell_type": "markdown",
      "metadata": {
        "id": "view-in-github",
        "colab_type": "text"
      },
      "source": [
        "<a href=\"https://colab.research.google.com/github/2303A51692/B24_PDS/blob/main/Lab_05_01.ipynb\" target=\"_parent\"><img src=\"https://colab.research.google.com/assets/colab-badge.svg\" alt=\"Open In Colab\"/></a>"
      ]
    },
    {
      "cell_type": "code",
      "source": [
        "import pandas as pd\n"
      ],
      "metadata": {
        "id": "F4XuJOYUfyXu"
      },
      "execution_count": 2,
      "outputs": []
    },
    {
      "cell_type": "code",
      "source": [
        "customers = pd.DataFrame({\n",
        "    'customer_id': [101, 102, 103, 104, 105],\n",
        "    'name': ['Alice', 'Bob', 'Charlie', 'Diana', 'Esha'],\n",
        "    'city': ['Hyderabad', 'Mumbai', 'Delhi', 'Hyderabad', 'Mumbai']\n",
        "})\n",
        "transactions = pd.DataFrame({\n",
        "    'transaction_id': [1, 2, 3, 4, 5, 6, 7],\n",
        "    'customer_id': [101, 102, 101, 103, 104, 105, 102],\n",
        "    'amount': [2500, 1500, 3000, 4000, 1200, 1800, 2200]\n",
        "})"
      ],
      "metadata": {
        "id": "ptAEFKnuf1sd"
      },
      "execution_count": 3,
      "outputs": []
    },
    {
      "cell_type": "code",
      "source": [
        "merged = pd.merge(customers, transactions, on='customer_id', how='inner')"
      ],
      "metadata": {
        "id": "n8m4E-scf78o"
      },
      "execution_count": 4,
      "outputs": []
    },
    {
      "cell_type": "code",
      "source": [
        "print(\"Merged Dataset:\\n\", merged, \"\\n\")"
      ],
      "metadata": {
        "colab": {
          "base_uri": "https://localhost:8080/"
        },
        "id": "Xu8a_I9zgARw",
        "outputId": "21478618-87a0-4d4d-f1e9-50e6dd3305c8"
      },
      "execution_count": 5,
      "outputs": [
        {
          "output_type": "stream",
          "name": "stdout",
          "text": [
            "Merged Dataset:\n",
            "    customer_id     name       city  transaction_id  amount\n",
            "0          101    Alice  Hyderabad               1    2500\n",
            "1          101    Alice  Hyderabad               3    3000\n",
            "2          102      Bob     Mumbai               2    1500\n",
            "3          102      Bob     Mumbai               7    2200\n",
            "4          103  Charlie      Delhi               4    4000\n",
            "5          104    Diana  Hyderabad               5    1200\n",
            "6          105     Esha     Mumbai               6    1800 \n",
            "\n"
          ]
        }
      ]
    },
    {
      "cell_type": "code",
      "source": [
        "customer_spend = merged.groupby(['customer_id', 'name', 'city'])['amount'].sum().reset_index()\n",
        "customer_spend.rename(columns={'amount': 'total_spend'}, inplace=True)\n",
        "print(\"Total Spend per Customer:\\n\", customer_spend, \"\\n\")"
      ],
      "metadata": {
        "colab": {
          "base_uri": "https://localhost:8080/"
        },
        "id": "YcqW05cFgEI-",
        "outputId": "c0c89bf6-8219-43d6-bd3b-a5a297fe9e25"
      },
      "execution_count": 6,
      "outputs": [
        {
          "output_type": "stream",
          "name": "stdout",
          "text": [
            "Total Spend per Customer:\n",
            "    customer_id     name       city  total_spend\n",
            "0          101    Alice  Hyderabad         5500\n",
            "1          102      Bob     Mumbai         3700\n",
            "2          103  Charlie      Delhi         4000\n",
            "3          104    Diana  Hyderabad         1200\n",
            "4          105     Esha     Mumbai         1800 \n",
            "\n"
          ]
        }
      ]
    },
    {
      "cell_type": "code",
      "source": [
        "city_spend = customer_spend.groupby('city')['total_spend'].sum().reset_index()\n",
        "print(\"City-wise Spending:\\n\", city_spend, \"\\n\")"
      ],
      "metadata": {
        "colab": {
          "base_uri": "https://localhost:8080/"
        },
        "id": "T0d6nILHgJNs",
        "outputId": "8022a7e4-9785-4ca2-f85f-a7e3fe75683d"
      },
      "execution_count": 7,
      "outputs": [
        {
          "output_type": "stream",
          "name": "stdout",
          "text": [
            "City-wise Spending:\n",
            "         city  total_spend\n",
            "0      Delhi         4000\n",
            "1  Hyderabad         6700\n",
            "2     Mumbai         5500 \n",
            "\n"
          ]
        }
      ]
    },
    {
      "cell_type": "code",
      "source": [
        "top_spender = customer_spend.loc[customer_spend['total_spend'].idxmax()]\n",
        "print(\"Top Spender:\\n\", top_spender, \"\\n\")"
      ],
      "metadata": {
        "colab": {
          "base_uri": "https://localhost:8080/"
        },
        "id": "MnPuKnmcgMhO",
        "outputId": "cbb3d4bc-0e58-407b-99d2-ac46bddb1d52"
      },
      "execution_count": 8,
      "outputs": [
        {
          "output_type": "stream",
          "name": "stdout",
          "text": [
            "Top Spender:\n",
            " customer_id          101\n",
            "name               Alice\n",
            "city           Hyderabad\n",
            "total_spend         5500\n",
            "Name: 0, dtype: object \n",
            "\n"
          ]
        }
      ]
    },
    {
      "cell_type": "code",
      "source": [
        "print(\"Insights:\")\n",
        "print(f\"- Highest spender: {top_spender['name']} from {top_spender['city']} with ₹{top_spender['total_spend']}\")\n",
        "print(f\"- City with highest spend: {city_spend.loc[city_spend['total_spend'].idxmax()]['city']}\")"
      ],
      "metadata": {
        "colab": {
          "base_uri": "https://localhost:8080/"
        },
        "id": "pa_pr6HxgQ0m",
        "outputId": "ff91fc16-6244-4b97-b012-0024c351ab2f"
      },
      "execution_count": 9,
      "outputs": [
        {
          "output_type": "stream",
          "name": "stdout",
          "text": [
            "Insights:\n",
            "- Highest spender: Alice from Hyderabad with ₹5500\n",
            "- City with highest spend: Hyderabad\n"
          ]
        }
      ]
    }
  ]
}