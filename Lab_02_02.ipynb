{
  "nbformat": 4,
  "nbformat_minor": 0,
  "metadata": {
    "colab": {
      "provenance": [],
      "authorship_tag": "ABX9TyP/SEULz7Vys1lztcnqU+RC",
      "include_colab_link": true
    },
    "kernelspec": {
      "name": "python3",
      "display_name": "Python 3"
    },
    "language_info": {
      "name": "python"
    }
  },
  "cells": [
    {
      "cell_type": "markdown",
      "metadata": {
        "id": "view-in-github",
        "colab_type": "text"
      },
      "source": [
        "<a href=\"https://colab.research.google.com/github/2303A51692/B24_PDS/blob/main/Lab_02_02.ipynb\" target=\"_parent\"><img src=\"https://colab.research.google.com/assets/colab-badge.svg\" alt=\"Open In Colab\"/></a>"
      ]
    },
    {
      "cell_type": "code",
      "execution_count": 1,
      "metadata": {
        "id": "bvNny-0uiphj"
      },
      "outputs": [],
      "source": [
        "import numpy as np\n",
        "import pandas as pd"
      ]
    },
    {
      "cell_type": "code",
      "source": [
        "data = {\n",
        "    'Order ID': [101, 102, 103, 104, 105],\n",
        "    'Product': ['Laptop', 'Mouse', 'Keyboard', 'Monitor','CPU'],\n",
        "    'Quantity': [1, 5, 3, 2, 1],\n",
        "    'Price': [75000, 500, 1500, 12000,20000]\n",
        "}\n",
        "\n",
        "df = pd.DataFrame(data)\n",
        "print(df)"
      ],
      "metadata": {
        "colab": {
          "base_uri": "https://localhost:8080/"
        },
        "id": "0rEGYMH5itWQ",
        "outputId": "9e86d1f8-191b-4c16-c620-51d7856ea93e"
      },
      "execution_count": 2,
      "outputs": [
        {
          "output_type": "stream",
          "name": "stdout",
          "text": [
            "   Order ID   Product  Quantity  Price\n",
            "0       101    Laptop         1  75000\n",
            "1       102     Mouse         5    500\n",
            "2       103  Keyboard         3   1500\n",
            "3       104   Monitor         2  12000\n",
            "4       105       CPU         1  20000\n"
          ]
        }
      ]
    },
    {
      "cell_type": "code",
      "source": [
        "total_sales_per_order = df['Quantity'] * df['Price']\n",
        "df['Total Sales per order'] = total_sales_per_order\n",
        "print(df)"
      ],
      "metadata": {
        "colab": {
          "base_uri": "https://localhost:8080/"
        },
        "id": "_jrTmUV-it9i",
        "outputId": "981777fc-c73e-44fe-9112-5c50ede962ae"
      },
      "execution_count": 3,
      "outputs": [
        {
          "output_type": "stream",
          "name": "stdout",
          "text": [
            "   Order ID   Product  Quantity  Price  Total Sales per order\n",
            "0       101    Laptop         1  75000                  75000\n",
            "1       102     Mouse         5    500                   2500\n",
            "2       103  Keyboard         3   1500                   4500\n",
            "3       104   Monitor         2  12000                  24000\n",
            "4       105       CPU         1  20000                  20000\n"
          ]
        }
      ]
    },
    {
      "cell_type": "code",
      "source": [
        "high_value_orders = df[df['Total Sales per order'] > 1000]\n",
        "print(high_value_orders)"
      ],
      "metadata": {
        "colab": {
          "base_uri": "https://localhost:8080/"
        },
        "id": "srnDEO1JivvU",
        "outputId": "b363d834-55a5-45ac-e2b7-de2a98544631"
      },
      "execution_count": 4,
      "outputs": [
        {
          "output_type": "stream",
          "name": "stdout",
          "text": [
            "   Order ID   Product  Quantity  Price  Total Sales per order\n",
            "0       101    Laptop         1  75000                  75000\n",
            "1       102     Mouse         5    500                   2500\n",
            "2       103  Keyboard         3   1500                   4500\n",
            "3       104   Monitor         2  12000                  24000\n",
            "4       105       CPU         1  20000                  20000\n"
          ]
        }
      ]
    },
    {
      "cell_type": "code",
      "source": [
        "most_sold = df.groupby('Product')['Quantity'].sum().idxmax()\n",
        "print(most_sold)"
      ],
      "metadata": {
        "colab": {
          "base_uri": "https://localhost:8080/"
        },
        "id": "nUjwWKXjix2M",
        "outputId": "7d46ef4e-e014-414d-8c4f-5e7daf77962d"
      },
      "execution_count": 5,
      "outputs": [
        {
          "output_type": "stream",
          "name": "stdout",
          "text": [
            "Mouse\n"
          ]
        }
      ]
    },
    {
      "cell_type": "code",
      "source": [
        "df['discount']=df['Total Sales per order']*0.2\n",
        "print(df)"
      ],
      "metadata": {
        "colab": {
          "base_uri": "https://localhost:8080/"
        },
        "id": "E6557jIvi8ek",
        "outputId": "9e367a12-08b8-4b80-bd96-aac7610ae9f6"
      },
      "execution_count": 6,
      "outputs": [
        {
          "output_type": "stream",
          "name": "stdout",
          "text": [
            "   Order ID   Product  Quantity  Price  Total Sales per order  discount\n",
            "0       101    Laptop         1  75000                  75000   15000.0\n",
            "1       102     Mouse         5    500                   2500     500.0\n",
            "2       103  Keyboard         3   1500                   4500     900.0\n",
            "3       104   Monitor         2  12000                  24000    4800.0\n",
            "4       105       CPU         1  20000                  20000    4000.0\n"
          ]
        }
      ]
    }
  ]
}