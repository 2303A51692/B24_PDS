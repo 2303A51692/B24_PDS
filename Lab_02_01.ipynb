{
  "nbformat": 4,
  "nbformat_minor": 0,
  "metadata": {
    "colab": {
      "provenance": [],
      "authorship_tag": "ABX9TyM1bniPizDFZA2vrmbI5DD9",
      "include_colab_link": true
    },
    "kernelspec": {
      "name": "python3",
      "display_name": "Python 3"
    },
    "language_info": {
      "name": "python"
    }
  },
  "cells": [
    {
      "cell_type": "markdown",
      "metadata": {
        "id": "view-in-github",
        "colab_type": "text"
      },
      "source": [
        "<a href=\"https://colab.research.google.com/github/2303A51692/B24_PDS/blob/main/Lab_02_01.ipynb\" target=\"_parent\"><img src=\"https://colab.research.google.com/assets/colab-badge.svg\" alt=\"Open In Colab\"/></a>"
      ]
    },
    {
      "cell_type": "code",
      "execution_count": 1,
      "metadata": {
        "id": "dAImWxRUhghy"
      },
      "outputs": [],
      "source": [
        "import numpy as np\n",
        "import pandas as pd"
      ]
    },
    {
      "cell_type": "code",
      "source": [
        "temp=np.array([29,23,28,38,45,42,35,32,30,29,26,21])\n",
        "print(\"monthly temperatures are: \",temp)"
      ],
      "metadata": {
        "colab": {
          "base_uri": "https://localhost:8080/"
        },
        "id": "TD_0GnZGh4gj",
        "outputId": "2268e5e2-8509-41d2-c38a-319b2ac01352"
      },
      "execution_count": 2,
      "outputs": [
        {
          "output_type": "stream",
          "name": "stdout",
          "text": [
            "monthly temperatures are:  [29 23 28 38 45 42 35 32 30 29 26 21]\n"
          ]
        }
      ]
    },
    {
      "cell_type": "code",
      "source": [
        "average_temp=np.mean(temp)\n",
        "print(\"average temperature is: \",average_temp)"
      ],
      "metadata": {
        "colab": {
          "base_uri": "https://localhost:8080/"
        },
        "id": "AHG7u4Ejh6IB",
        "outputId": "e678b1ee-71a0-433e-dfff-5205c78e073f"
      },
      "execution_count": 3,
      "outputs": [
        {
          "output_type": "stream",
          "name": "stdout",
          "text": [
            "average temperature is:  31.5\n"
          ]
        }
      ]
    },
    {
      "cell_type": "code",
      "source": [
        "hottest_month = np.argmax(temp) + 1\n",
        "coldest_month = np.argmin(temp) + 1\n",
        "print(\"hottest month is: \",hottest_month)\n",
        "print(\"coldest month is: \",coldest_month)"
      ],
      "metadata": {
        "colab": {
          "base_uri": "https://localhost:8080/"
        },
        "id": "FirwRMJrh9bh",
        "outputId": "79ee4ffd-a807-4bb5-bbd7-0a0a0c7a3058"
      },
      "execution_count": 4,
      "outputs": [
        {
          "output_type": "stream",
          "name": "stdout",
          "text": [
            "hottest month is:  5\n",
            "coldest month is:  12\n"
          ]
        }
      ]
    },
    {
      "cell_type": "code",
      "source": [
        "normalized_temps = (temp - np.min(temp)) / (np.max(temp) - np.min(temp))\n",
        "print(\"normalised temparature are:\",normalized_temps)"
      ],
      "metadata": {
        "colab": {
          "base_uri": "https://localhost:8080/"
        },
        "id": "Jv1K2jEEh-IY",
        "outputId": "a5d43d8e-4885-4653-9760-feb1c1950294"
      },
      "execution_count": 5,
      "outputs": [
        {
          "output_type": "stream",
          "name": "stdout",
          "text": [
            "normalised temparature are: [0.33333333 0.08333333 0.29166667 0.70833333 1.         0.875\n",
            " 0.58333333 0.45833333 0.375      0.33333333 0.20833333 0.        ]\n"
          ]
        }
      ]
    },
    {
      "cell_type": "code",
      "source": [
        "months_above_average =(temp > average_temp)\n",
        "print(\"number of months above average temperature is: \",months_above_average)"
      ],
      "metadata": {
        "colab": {
          "base_uri": "https://localhost:8080/"
        },
        "id": "HZUToNDHiAjo",
        "outputId": "8118b22a-edf0-426b-cd69-03e891a8165a"
      },
      "execution_count": 6,
      "outputs": [
        {
          "output_type": "stream",
          "name": "stdout",
          "text": [
            "number of months above average temperature is:  [False False False  True  True  True  True  True False False False False]\n"
          ]
        }
      ]
    },
    {
      "cell_type": "code",
      "source": [
        "monthly_temps_f = temp * 9/5 + 32\n",
        "print(monthly_temps_f)"
      ],
      "metadata": {
        "colab": {
          "base_uri": "https://localhost:8080/"
        },
        "id": "WazsUCPviC_2",
        "outputId": "f6aa3624-760d-4a17-d5e3-7fc8a710b513"
      },
      "execution_count": 7,
      "outputs": [
        {
          "output_type": "stream",
          "name": "stdout",
          "text": [
            "[ 84.2  73.4  82.4 100.4 113.  107.6  95.   89.6  86.   84.2  78.8  69.8]\n"
          ]
        }
      ]
    }
  ]
}