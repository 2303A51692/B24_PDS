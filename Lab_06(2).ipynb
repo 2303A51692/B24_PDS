{
  "nbformat": 4,
  "nbformat_minor": 0,
  "metadata": {
    "colab": {
      "provenance": [],
      "authorship_tag": "ABX9TyORUDBNa++K/+rU9pTURfhU",
      "include_colab_link": true
    },
    "kernelspec": {
      "name": "python3",
      "display_name": "Python 3"
    },
    "language_info": {
      "name": "python"
    }
  },
  "cells": [
    {
      "cell_type": "markdown",
      "metadata": {
        "id": "view-in-github",
        "colab_type": "text"
      },
      "source": [
        "<a href=\"https://colab.research.google.com/github/2303A51692/B24_PDS/blob/main/Lab_06(2).ipynb\" target=\"_parent\"><img src=\"https://colab.research.google.com/assets/colab-badge.svg\" alt=\"Open In Colab\"/></a>"
      ]
    },
    {
      "cell_type": "code",
      "execution_count": 2,
      "metadata": {
        "colab": {
          "base_uri": "https://localhost:8080/"
        },
        "id": "iIsfEIhob0L6",
        "outputId": "198bbe03-7a5b-4c9b-ff4c-a4419b2694b8"
      },
      "outputs": [
        {
          "output_type": "stream",
          "name": "stdout",
          "text": [
            "Original Dataset:\n",
            "    Customer_ID  Income\n",
            "0            1   25000\n",
            "1            2   48000\n",
            "2            3   52000\n",
            "3            4   31000\n",
            "4            5   60000\n",
            "5            6   75000\n",
            "6            7  120000\n",
            "7            8   45000\n",
            "8            9   39000\n",
            "9           10   90000\n"
          ]
        }
      ],
      "source": [
        "import pandas as pd\n",
        "data = {\n",
        " 'Customer_ID': range(1, 11),\n",
        " 'Income': [25000, 48000, 52000, 31000, 60000, 75000, 120000, 45000, 39000, 90000]\n",
        " }\n",
        "df = pd.DataFrame(data)\n",
        "print(\"Original Dataset:\\n\", df)"
      ]
    },
    {
      "cell_type": "code",
      "source": [
        "df['Income_MinMax'] = (df['Income'] - df['Income'].min()) / (df['Income'].max() - df['Income'].min())\n",
        "print(\"\\nMin-Max Normalized Income:\\n\", df[['Customer_ID', 'Income_MinMax']])"
      ],
      "metadata": {
        "colab": {
          "base_uri": "https://localhost:8080/"
        },
        "id": "848xm45hcAwN",
        "outputId": "50d0e1ce-cb7c-4164-fac5-fbf084d1720c"
      },
      "execution_count": 4,
      "outputs": [
        {
          "output_type": "stream",
          "name": "stdout",
          "text": [
            "\n",
            "Min-Max Normalized Income:\n",
            "    Customer_ID  Income_MinMax\n",
            "0            1       0.000000\n",
            "1            2       0.242105\n",
            "2            3       0.284211\n",
            "3            4       0.063158\n",
            "4            5       0.368421\n",
            "5            6       0.526316\n",
            "6            7       1.000000\n",
            "7            8       0.210526\n",
            "8            9       0.147368\n",
            "9           10       0.684211\n"
          ]
        }
      ]
    },
    {
      "cell_type": "code",
      "source": [
        "df['Income_Zscore'] = (df['Income'] - df['Income'].mean()) / df['Income'].std()\n",
        "print(\"\\nZ-score Standardized Income:\\n\", df[['Customer_ID', 'Income_Zscore']])"
      ],
      "metadata": {
        "colab": {
          "base_uri": "https://localhost:8080/"
        },
        "id": "nv2gWScjcEKa",
        "outputId": "1561164d-4a09-4709-ef0e-fc76282b6b21"
      },
      "execution_count": 6,
      "outputs": [
        {
          "output_type": "stream",
          "name": "stdout",
          "text": [
            "\n",
            "Z-score Standardized Income:\n",
            "    Customer_ID  Income_Zscore\n",
            "0            1      -1.149604\n",
            "1            2      -0.360324\n",
            "2            3      -0.223058\n",
            "3            4      -0.943705\n",
            "4            5       0.051475\n",
            "5            6       0.566223\n",
            "6            7       2.110467\n",
            "7            8      -0.463273\n",
            "8            9      -0.669173\n",
            "9           10       1.080971\n"
          ]
        }
      ]
    }
  ]
}