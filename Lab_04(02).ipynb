{
  "nbformat": 4,
  "nbformat_minor": 0,
  "metadata": {
    "colab": {
      "provenance": [],
      "authorship_tag": "ABX9TyNZQJmX3k+7F7m/9XA8Nv5W",
      "include_colab_link": true
    },
    "kernelspec": {
      "name": "python3",
      "display_name": "Python 3"
    },
    "language_info": {
      "name": "python"
    }
  },
  "cells": [
    {
      "cell_type": "markdown",
      "metadata": {
        "id": "view-in-github",
        "colab_type": "text"
      },
      "source": [
        "<a href=\"https://colab.research.google.com/github/2303A51692/B24_PDS/blob/main/Lab_04(02).ipynb\" target=\"_parent\"><img src=\"https://colab.research.google.com/assets/colab-badge.svg\" alt=\"Open In Colab\"/></a>"
      ]
    },
    {
      "cell_type": "code",
      "execution_count": 1,
      "metadata": {
        "id": "7wA0cKXmb92Q"
      },
      "outputs": [],
      "source": [
        "import pandas as pd"
      ]
    },
    {
      "cell_type": "code",
      "source": [
        "df = pd.read_csv(\"/content/air_quality.csv\")"
      ],
      "metadata": {
        "id": "tTda2VRvcHdO"
      },
      "execution_count": 2,
      "outputs": []
    },
    {
      "cell_type": "code",
      "source": [
        "df = df.fillna(method='ffill')\n"
      ],
      "metadata": {
        "colab": {
          "base_uri": "https://localhost:8080/"
        },
        "id": "S2W_X0KecZV5",
        "outputId": "19809a21-d935-4b11-b0d1-6fb6eb278ef9"
      },
      "execution_count": 4,
      "outputs": [
        {
          "output_type": "stream",
          "name": "stderr",
          "text": [
            "/tmp/ipython-input-3984534036.py:1: FutureWarning: DataFrame.fillna with 'method' is deprecated and will raise in a future version. Use obj.ffill() or obj.bfill() instead.\n",
            "  df = df.fillna(method='ffill')\n"
          ]
        }
      ]
    },
    {
      "cell_type": "code",
      "source": [
        "polluted_days = df[(df[\"PM2.5\"] > 150) & (df[\"NO2\"] > 80)]"
      ],
      "metadata": {
        "id": "v4UGXhVScigX"
      },
      "execution_count": 6,
      "outputs": []
    },
    {
      "cell_type": "code",
      "source": [
        "print(\"Polluted Days (PM2.5 > 150 and NO2 > 80):\")\n",
        "print(polluted_days)"
      ],
      "metadata": {
        "colab": {
          "base_uri": "https://localhost:8080/"
        },
        "id": "oeLJ_XJ4cl5H",
        "outputId": "60302f16-3687-4158-c632-1bec6de14ead"
      },
      "execution_count": 7,
      "outputs": [
        {
          "output_type": "stream",
          "name": "stdout",
          "text": [
            "Polluted Days (PM2.5 > 150 and NO2 > 80):\n",
            "    Location  PM2.5   PM10   NO2  SO2        Date\n",
            "0  Hyderabad  160.0  220.0  85.0   40  2025-08-01\n",
            "1      Delhi  180.0  220.0  90.0   50  2025-08-02\n",
            "4    Kolkata  155.0  210.0  95.0   42  2025-08-05\n",
            "6  Bangalore  170.0  230.0  82.0   38  2025-08-07\n"
          ]
        }
      ]
    }
  ]
}